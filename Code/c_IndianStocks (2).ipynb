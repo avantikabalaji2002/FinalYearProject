{
  "cells": [
    {
      "cell_type": "code",
      "execution_count": 1,
      "metadata": {
        "id": "y4EgKnNwZ7Nm"
      },
      "outputs": [],
      "source": [
        "import pandas as pd\n",
        "import numpy as np\n",
        "import networkx as nx\n",
        "import matplotlib.pyplot as plt\n",
        "import seaborn as sns"
      ]
    },
    {
      "cell_type": "code",
      "execution_count": 3,
      "metadata": {
        "colab": {
          "base_uri": "https://localhost:8080/"
        },
        "id": "hpQU9PIlcFog",
        "outputId": "171efd25-b09f-437c-8f8d-4a1221da7ba5"
      },
      "outputs": [
        {
          "output_type": "stream",
          "name": "stdout",
          "text": [
            "Drive already mounted at /content/drive; to attempt to forcibly remount, call drive.mount(\"/content/drive\", force_remount=True).\n"
          ]
        }
      ],
      "source": [
        "from google.colab import drive\n",
        "drive.mount('/content/drive')"
      ]
    },
    {
      "cell_type": "code",
      "execution_count": 4,
      "metadata": {
        "id": "CXj9LasZIuby",
        "colab": {
          "base_uri": "https://localhost:8080/"
        },
        "outputId": "21a55e1a-b411-4074-8753-98ddfebe7e0c"
      },
      "outputs": [
        {
          "output_type": "stream",
          "name": "stderr",
          "text": [
            "<ipython-input-4-ffd83b337010>:1: DtypeWarning: Columns (13) have mixed types. Specify dtype option on import or set low_memory=False.\n",
            "  data=pd.read_csv(\"/content/drive/MyDrive/final_year_project/final_dataset_bse.csv\")\n"
          ]
        }
      ],
      "source": [
        "data=pd.read_csv(\"/content/drive/MyDrive/final_year_project/final_dataset_bse.csv\")"
      ]
    },
    {
      "cell_type": "code",
      "execution_count": 5,
      "metadata": {
        "id": "PdCE_9hzijLK"
      },
      "outputs": [],
      "source": [
        "data_e=pd.read_csv(\"/content/drive/MyDrive/final_year_project/Equity (2).csv\")"
      ]
    },
    {
      "cell_type": "code",
      "execution_count": 6,
      "metadata": {
        "colab": {
          "base_uri": "https://localhost:8080/"
        },
        "id": "X2Q5GUHJ5_L4",
        "outputId": "a0b69c96-1b02-4bb1-ca4a-943a22aa1534"
      },
      "outputs": [
        {
          "output_type": "execute_result",
          "data": {
            "text/plain": [
              "Index(['Date', 'Open Price', 'High Price', 'Low Price', 'Close Price', 'WAP',\n",
              "       'No.of Shares', 'No. of Trades', 'Total Turnover (Rs.)',\n",
              "       'Deliverable Quantity', '% Deli. Qty to Traded Qty', 'Spread High-Low',\n",
              "       'Spread Close-Open', 'Co Name'],\n",
              "      dtype='object')"
            ]
          },
          "metadata": {},
          "execution_count": 6
        }
      ],
      "source": [
        "data.columns"
      ]
    },
    {
      "cell_type": "code",
      "execution_count": 7,
      "metadata": {
        "colab": {
          "base_uri": "https://localhost:8080/"
        },
        "id": "JwlDGOEX6CM3",
        "outputId": "fb11b805-f78b-4c04-c2e4-c79a7a78ab8c"
      },
      "outputs": [
        {
          "output_type": "stream",
          "name": "stdout",
          "text": [
            "<class 'pandas.core.frame.DataFrame'>\n",
            "RangeIndex: 3613305 entries, 0 to 3613304\n",
            "Data columns (total 14 columns):\n",
            " #   Column                     Dtype  \n",
            "---  ------                     -----  \n",
            " 0   Date                       object \n",
            " 1   Open Price                 float64\n",
            " 2   High Price                 float64\n",
            " 3   Low Price                  float64\n",
            " 4   Close Price                float64\n",
            " 5   WAP                        float64\n",
            " 6   No.of Shares               int64  \n",
            " 7   No. of Trades              int64  \n",
            " 8   Total Turnover (Rs.)       float64\n",
            " 9   Deliverable Quantity       float64\n",
            " 10  % Deli. Qty to Traded Qty  float64\n",
            " 11  Spread High-Low            float64\n",
            " 12  Spread Close-Open          float64\n",
            " 13  Co Name                    object \n",
            "dtypes: float64(10), int64(2), object(2)\n",
            "memory usage: 385.9+ MB\n"
          ]
        }
      ],
      "source": [
        "data.info()"
      ]
    },
    {
      "cell_type": "code",
      "execution_count": 8,
      "metadata": {
        "id": "kB5O_5Ul6EiS"
      },
      "outputs": [],
      "source": [
        "data=data.dropna()"
      ]
    },
    {
      "cell_type": "code",
      "source": [
        "#Data Cleaning- Removing companies with less than 2 months data\n",
        "companies_to_remove = data['Co Name'].value_counts()[data['Co Name'].value_counts() < 50].index.tolist()\n",
        "data = data[~data['Co Name'].isin(companies_to_remove)]"
      ],
      "metadata": {
        "id": "2374Orx4zCfe"
      },
      "execution_count": 9,
      "outputs": []
    },
    {
      "cell_type": "code",
      "execution_count": 10,
      "metadata": {
        "colab": {
          "base_uri": "https://localhost:8080/"
        },
        "id": "ljPOKfgz6Ijj",
        "outputId": "f072a4ad-a4cc-49e8-a9e8-46016ea8925f"
      },
      "outputs": [
        {
          "output_type": "stream",
          "name": "stdout",
          "text": [
            "<class 'pandas.core.frame.DataFrame'>\n",
            "Int64Index: 3598017 entries, 0 to 3613304\n",
            "Data columns (total 14 columns):\n",
            " #   Column                     Dtype  \n",
            "---  ------                     -----  \n",
            " 0   Date                       object \n",
            " 1   Open Price                 float64\n",
            " 2   High Price                 float64\n",
            " 3   Low Price                  float64\n",
            " 4   Close Price                float64\n",
            " 5   WAP                        float64\n",
            " 6   No.of Shares               int64  \n",
            " 7   No. of Trades              int64  \n",
            " 8   Total Turnover (Rs.)       float64\n",
            " 9   Deliverable Quantity       float64\n",
            " 10  % Deli. Qty to Traded Qty  float64\n",
            " 11  Spread High-Low            float64\n",
            " 12  Spread Close-Open          float64\n",
            " 13  Co Name                    object \n",
            "dtypes: float64(10), int64(2), object(2)\n",
            "memory usage: 411.8+ MB\n"
          ]
        }
      ],
      "source": [
        "data.info()"
      ]
    },
    {
      "cell_type": "code",
      "execution_count": 11,
      "metadata": {
        "colab": {
          "base_uri": "https://localhost:8080/"
        },
        "id": "0sr93r39ioTo",
        "outputId": "ccb37f06-1c72-4307-d085-fc00ca808e73"
      },
      "outputs": [
        {
          "output_type": "execute_result",
          "data": {
            "text/plain": [
              "Index(['Security Code', 'Issuer Name', 'Security Id', 'Security Name',\n",
              "       'Status', 'Group', 'Face Value', 'ISIN No', 'Industry', 'Instrument',\n",
              "       'Sector Name', 'Industry New Name', 'Igroup Name', 'ISubgroup Name'],\n",
              "      dtype='object')"
            ]
          },
          "metadata": {},
          "execution_count": 11
        }
      ],
      "source": [
        "data_e.columns"
      ]
    },
    {
      "cell_type": "code",
      "execution_count": 12,
      "metadata": {
        "id": "sQNLdmSpi2as"
      },
      "outputs": [],
      "source": [
        "data_e=data_e.dropna()"
      ]
    },
    {
      "cell_type": "code",
      "execution_count": 13,
      "metadata": {
        "colab": {
          "base_uri": "https://localhost:8080/"
        },
        "id": "KAyx4BdOi6y3",
        "outputId": "584db67c-45c8-46f1-f71c-57bb465e130f"
      },
      "outputs": [
        {
          "output_type": "stream",
          "name": "stdout",
          "text": [
            "<class 'pandas.core.frame.DataFrame'>\n",
            "RangeIndex: 4244 entries, 0 to 4243\n",
            "Data columns (total 14 columns):\n",
            " #   Column             Non-Null Count  Dtype  \n",
            "---  ------             --------------  -----  \n",
            " 0   Security Code      4244 non-null   int64  \n",
            " 1   Issuer Name        4244 non-null   object \n",
            " 2   Security Id        4244 non-null   object \n",
            " 3   Security Name      4244 non-null   object \n",
            " 4   Status             4244 non-null   object \n",
            " 5   Group              4244 non-null   object \n",
            " 6   Face Value         4244 non-null   float64\n",
            " 7   ISIN No            4244 non-null   object \n",
            " 8   Industry           4244 non-null   object \n",
            " 9   Instrument         4244 non-null   object \n",
            " 10  Sector Name        4244 non-null   object \n",
            " 11  Industry New Name  4244 non-null   object \n",
            " 12  Igroup Name        4244 non-null   object \n",
            " 13  ISubgroup Name     4244 non-null   object \n",
            "dtypes: float64(1), int64(1), object(12)\n",
            "memory usage: 464.3+ KB\n"
          ]
        }
      ],
      "source": [
        "data_e.info()"
      ]
    },
    {
      "cell_type": "code",
      "execution_count": 14,
      "metadata": {
        "id": "6igiqDn7i9Vy"
      },
      "outputs": [],
      "source": [
        "merged_df = pd.merge(data, data_e, left_on='Co Name', right_on='Security Code', how='left')\n",
        "# Add a new column 'Issuer Name' to df1 with values from df2\n",
        "data['Issuer Name'] = merged_df['Issuer Name']\n",
        "data['Sector']=merged_df['Sector Name']"
      ]
    },
    {
      "cell_type": "code",
      "execution_count": 15,
      "metadata": {
        "colab": {
          "base_uri": "https://localhost:8080/"
        },
        "id": "fzscxqWZj6gT",
        "outputId": "36213a4a-ec4b-4f15-9dbe-ab27a625ca25"
      },
      "outputs": [
        {
          "output_type": "stream",
          "name": "stdout",
          "text": [
            "Index(['Date', 'Open Price', 'High Price', 'Low Price', 'Close Price', 'WAP',\n",
            "       'No.of Shares', 'No. of Trades', 'Total Turnover (Rs.)',\n",
            "       'Deliverable Quantity', '% Deli. Qty to Traded Qty', 'Spread High-Low',\n",
            "       'Spread Close-Open', 'Co Name', 'Issuer Name', 'Sector'],\n",
            "      dtype='object')\n"
          ]
        }
      ],
      "source": [
        "print(data.columns)"
      ]
    },
    {
      "cell_type": "code",
      "execution_count": 16,
      "metadata": {
        "id": "1irSvvaRo1RE"
      },
      "outputs": [],
      "source": [
        "# from itertools import combinations\n",
        "# from tqdm import tqdm\n",
        "# unique_companies = data[\"Co Name\"].unique()\n",
        "# correlation_dict = {}\n",
        "\n",
        "# # Iterate through pairs of unique companies and compute the cross-correlation\n",
        "# with tqdm(total=len(list(combinations(unique_companies, 2))) // 2) as pbar:\n",
        "#     for company1, company2 in combinations(unique_companies, 2):\n",
        "#         if (company1, company2) not in correlation_dict:\n",
        "#             condition1 = (data['Co Name'] == company1)\n",
        "#             condition2 = (data['Co Name'] == company2)\n",
        "\n",
        "#             prices_close = data.loc[condition1, 'Close Price'].tolist()\n",
        "#             prices_wap = data.loc[condition1, 'WAP'].tolist()\n",
        "#             prices2_close = data.loc[condition2, 'Close Price'].tolist()\n",
        "#             prices2_wap = data.loc[condition2, 'WAP'].tolist()\n",
        "\n",
        "#             # Calculate cross-correlation with a lag of 1 week (7 days)\n",
        "#             cross_correlation_close = np.correlate(prices_close, prices2_close, mode='full')\n",
        "#             cross_correlation_wap = np.correlate(prices_wap, prices2_wap, mode='full')\n",
        "\n",
        "#             # Normalize the cross-correlation values\n",
        "#             max_correlation_close = cross_correlation_close.max()\n",
        "#             max_correlation_wap = cross_correlation_wap.max()\n",
        "\n",
        "#             # Average of Close Price and WAP correlations\n",
        "#             avg_correlation = (max_correlation_close + max_correlation_wap) / 2\n",
        "\n",
        "#             correlation_dict[(company1, company2)] = avg_correlation\n",
        "#             pbar.update(1)\n",
        "\n",
        "# # Create the correlation matrix\n",
        "# correlation_matrix2 = np.zeros((len(unique_companies), len(unique_companies)))\n",
        "\n",
        "# for i, company1 in enumerate(unique_companies):\n",
        "#     for j, company2 in enumerate(unique_companies):\n",
        "#         if i < j:\n",
        "#             correlation_matrix2[i, j] = correlation_dict[(company1, company2)]\n",
        "#         elif i > j:\n",
        "#             correlation_matrix2[i, j] = correlation_dict[(company2, company1)]\n",
        "\n",
        "# # Fill the diagonal elements with 1 since the cross-correlation with itself is 1\n",
        "# np.fill_diagonal(correlation_matrix2, 1)\n",
        "\n",
        "# # Print the final correlation matrix\n",
        "# print(\"Average Cross-Correlation Matrix:\")\n",
        "# print(pd.DataFrame(correlation_matrix2, columns=unique_companies, index=unique_companies))"
      ]
    },
    {
      "cell_type": "code",
      "execution_count": 17,
      "metadata": {
        "colab": {
          "base_uri": "https://localhost:8080/"
        },
        "id": "8re_FUP56KJH",
        "outputId": "c2a008f9-88bb-4e28-9714-f68c14bbc403"
      },
      "outputs": [
        {
          "output_type": "stream",
          "name": "stdout",
          "text": [
            "Issuer Name                    Aurum PropTech Limited   Gland Pharma Limited  \\\n",
            "Issuer Name                                                                    \n",
            " Aurum PropTech Limited                      1.000000               0.229501   \n",
            " Gland Pharma Limited                        0.229501               1.000000   \n",
            " Max India Limited                          -0.390070              -0.102399   \n",
            "20 Microns Limited                           0.444748               0.564358   \n",
            "360 ONE WAM LIMITED                          0.140618              -0.010994   \n",
            "...                                               ...                    ...   \n",
            "eClerx Services Limited                      0.573920              -0.388500   \n",
            "eMudhra Limited                              0.736370               0.555782   \n",
            "i Power Solutions India Ltd.                 0.557457                    NaN   \n",
            "iStreet Network Limited                      0.727969               0.262887   \n",
            "ramkrishna forgings Ltd.                     0.756316              -0.212611   \n",
            "\n",
            "Issuer Name                    Max India Limited  20 Microns Limited  \\\n",
            "Issuer Name                                                            \n",
            " Aurum PropTech Limited                -0.390070            0.444748   \n",
            " Gland Pharma Limited                  -0.102399            0.564358   \n",
            " Max India Limited                      1.000000           -0.477625   \n",
            "20 Microns Limited                     -0.477625            1.000000   \n",
            "360 ONE WAM LIMITED                     0.057552           -0.208208   \n",
            "...                                          ...                 ...   \n",
            "eClerx Services Limited                 0.304900            0.353113   \n",
            "eMudhra Limited                         0.245671            0.274159   \n",
            "i Power Solutions India Ltd.            0.350714            0.406882   \n",
            "iStreet Network Limited                -0.660270            0.558104   \n",
            "ramkrishna forgings Ltd.               -0.564715            0.470173   \n",
            "\n",
            "Issuer Name                   360 ONE WAM LIMITED  3M India Ltd.  \\\n",
            "Issuer Name                                                        \n",
            " Aurum PropTech Limited                  0.140618       0.823504   \n",
            " Gland Pharma Limited                   -0.010994       0.233584   \n",
            " Max India Limited                       0.057552      -0.421622   \n",
            "20 Microns Limited                      -0.208208       0.542680   \n",
            "360 ONE WAM LIMITED                      1.000000      -0.196801   \n",
            "...                                           ...            ...   \n",
            "eClerx Services Limited                  0.040694       0.635124   \n",
            "eMudhra Limited                          0.159150       0.771571   \n",
            "i Power Solutions India Ltd.             0.106594       0.040898   \n",
            "iStreet Network Limited                 -0.301635       0.720522   \n",
            "ramkrishna forgings Ltd.                -0.285322       0.866044   \n",
            "\n",
            "Issuer Name                   3P LAND HOLDINGS LTD.  3i Infotech limited  \\\n",
            "Issuer Name                                                                \n",
            " Aurum PropTech Limited                    0.487564             0.641735   \n",
            " Gland Pharma Limited                      0.690365            -0.355092   \n",
            " Max India Limited                        -0.480598            -0.608697   \n",
            "20 Microns Limited                         0.679302             0.413141   \n",
            "360 ONE WAM LIMITED                       -0.228634            -0.106650   \n",
            "...                                             ...                  ...   \n",
            "eClerx Services Limited                    0.457293             0.863081   \n",
            "eMudhra Limited                           -0.659793             0.665746   \n",
            "i Power Solutions India Ltd.               0.647153             0.628501   \n",
            "iStreet Network Limited                    0.797241             0.887447   \n",
            "ramkrishna forgings Ltd.                   0.659561             0.918075   \n",
            "\n",
            "Issuer Name                   5paisa Capital Limited  \\\n",
            "Issuer Name                                            \n",
            " Aurum PropTech Limited                     0.210421   \n",
            " Gland Pharma Limited                      -0.546785   \n",
            " Max India Limited                          0.235031   \n",
            "20 Microns Limited                          0.020288   \n",
            "360 ONE WAM LIMITED                        -0.009166   \n",
            "...                                              ...   \n",
            "eClerx Services Limited                     0.621997   \n",
            "eMudhra Limited                            -0.042148   \n",
            "i Power Solutions India Ltd.                0.259259   \n",
            "iStreet Network Limited                    -0.238414   \n",
            "ramkrishna forgings Ltd.                    0.540979   \n",
            "\n",
            "Issuer Name                   63 Moons Technologies Limited  ...  \\\n",
            "Issuer Name                                                  ...   \n",
            " Aurum PropTech Limited                            0.484673  ...   \n",
            " Gland Pharma Limited                             -0.457513  ...   \n",
            " Max India Limited                                -0.328418  ...   \n",
            "20 Microns Limited                                 0.228763  ...   \n",
            "360 ONE WAM LIMITED                               -0.064043  ...   \n",
            "...                                                     ...  ...   \n",
            "eClerx Services Limited                            0.708941  ...   \n",
            "eMudhra Limited                                    0.358282  ...   \n",
            "i Power Solutions India Ltd.                       0.425859  ...   \n",
            "iStreet Network Limited                            0.698364  ...   \n",
            "ramkrishna forgings Ltd.                           0.773029  ...   \n",
            "\n",
            "Issuer Name                   Zodiac-JRD-MKJ Ltd.  Zomato Limited  \\\n",
            "Issuer Name                                                         \n",
            " Aurum PropTech Limited                  0.618416       -0.220595   \n",
            " Gland Pharma Limited                    0.670733        0.548531   \n",
            " Max India Limited                      -0.536489        0.643356   \n",
            "20 Microns Limited                       0.713183        0.241001   \n",
            "360 ONE WAM LIMITED                     -0.206693        0.252568   \n",
            "...                                           ...             ...   \n",
            "eClerx Services Limited                  0.529590       -0.190733   \n",
            "eMudhra Limited                          0.227981        0.610741   \n",
            "i Power Solutions India Ltd.             0.454040             NaN   \n",
            "iStreet Network Limited                  0.773255       -0.283161   \n",
            "ramkrishna forgings Ltd.                 0.589719       -0.651771   \n",
            "\n",
            "Issuer Name                   Zuari Industries Limited  \\\n",
            "Issuer Name                                              \n",
            " Aurum PropTech Limited                            NaN   \n",
            " Gland Pharma Limited                              NaN   \n",
            " Max India Limited                                 NaN   \n",
            "20 Microns Limited                                 NaN   \n",
            "360 ONE WAM LIMITED                                NaN   \n",
            "...                                                ...   \n",
            "eClerx Services Limited                            NaN   \n",
            "eMudhra Limited                                    NaN   \n",
            "i Power Solutions India Ltd.                       NaN   \n",
            "iStreet Network Limited                            NaN   \n",
            "ramkrishna forgings Ltd.                           NaN   \n",
            "\n",
            "Issuer Name                   Zydus Lifesciences Limited  \\\n",
            "Issuer Name                                                \n",
            " Aurum PropTech Limited                         0.436023   \n",
            " Gland Pharma Limited                          -0.684523   \n",
            " Max India Limited                             -0.075288   \n",
            "20 Microns Limited                              0.159378   \n",
            "360 ONE WAM LIMITED                            -0.008824   \n",
            "...                                                  ...   \n",
            "eClerx Services Limited                         0.618066   \n",
            "eMudhra Limited                                -0.503501   \n",
            "i Power Solutions India Ltd.                    0.482172   \n",
            "iStreet Network Limited                         0.564912   \n",
            "ramkrishna forgings Ltd.                        0.753242   \n",
            "\n",
            "Issuer Name                   Zydus Wellness Limited  eClerx Services Limited  \\\n",
            "Issuer Name                                                                     \n",
            " Aurum PropTech Limited                     0.168038                 0.573920   \n",
            " Gland Pharma Limited                       0.156979                -0.388500   \n",
            " Max India Limited                         -0.389393                 0.304900   \n",
            "20 Microns Limited                          0.476432                 0.353113   \n",
            "360 ONE WAM LIMITED                        -0.354155                 0.040694   \n",
            "...                                              ...                      ...   \n",
            "eClerx Services Limited                     0.480318                 1.000000   \n",
            "eMudhra Limited                             0.162478                 0.423049   \n",
            "i Power Solutions India Ltd.               -0.250516                 0.223084   \n",
            "iStreet Network Limited                     0.686783                 0.665950   \n",
            "ramkrishna forgings Ltd.                    0.608214                 0.749371   \n",
            "\n",
            "Issuer Name                   eMudhra Limited  i Power Solutions India Ltd.  \\\n",
            "Issuer Name                                                                   \n",
            " Aurum PropTech Limited              0.736370                      0.557457   \n",
            " Gland Pharma Limited                0.555782                           NaN   \n",
            " Max India Limited                   0.245671                      0.350714   \n",
            "20 Microns Limited                   0.274159                      0.406882   \n",
            "360 ONE WAM LIMITED                  0.159150                      0.106594   \n",
            "...                                       ...                           ...   \n",
            "eClerx Services Limited              0.423049                      0.223084   \n",
            "eMudhra Limited                      1.000000                           NaN   \n",
            "i Power Solutions India Ltd.              NaN                      1.000000   \n",
            "iStreet Network Limited                   NaN                      0.411204   \n",
            "ramkrishna forgings Ltd.            -0.351339                      0.507406   \n",
            "\n",
            "Issuer Name                   iStreet Network Limited  \\\n",
            "Issuer Name                                             \n",
            " Aurum PropTech Limited                      0.727969   \n",
            " Gland Pharma Limited                        0.262887   \n",
            " Max India Limited                          -0.660270   \n",
            "20 Microns Limited                           0.558104   \n",
            "360 ONE WAM LIMITED                         -0.301635   \n",
            "...                                               ...   \n",
            "eClerx Services Limited                      0.665950   \n",
            "eMudhra Limited                                   NaN   \n",
            "i Power Solutions India Ltd.                 0.411204   \n",
            "iStreet Network Limited                      1.000000   \n",
            "ramkrishna forgings Ltd.                     0.885926   \n",
            "\n",
            "Issuer Name                   ramkrishna forgings Ltd.  \n",
            "Issuer Name                                             \n",
            " Aurum PropTech Limited                       0.756316  \n",
            " Gland Pharma Limited                        -0.212611  \n",
            " Max India Limited                           -0.564715  \n",
            "20 Microns Limited                            0.470173  \n",
            "360 ONE WAM LIMITED                          -0.285322  \n",
            "...                                                ...  \n",
            "eClerx Services Limited                       0.749371  \n",
            "eMudhra Limited                              -0.351339  \n",
            "i Power Solutions India Ltd.                  0.507406  \n",
            "iStreet Network Limited                       0.885926  \n",
            "ramkrishna forgings Ltd.                      1.000000  \n",
            "\n",
            "[3870 rows x 3870 columns]\n"
          ]
        }
      ],
      "source": [
        "correlation_tables = []\n",
        "pivot_table = data.pivot_table(index='Date', columns='Issuer Name', values='Close Price')\n",
        "correlation_tables.append(pivot_table)\n",
        "correlation_matrix = pivot_table.corr()\n",
        "print(correlation_matrix)"
      ]
    },
    {
      "cell_type": "code",
      "execution_count": null,
      "metadata": {
        "id": "ah4G16nyBvDm"
      },
      "outputs": [],
      "source": [
        "start = 0.5\n",
        "end = 1.0\n",
        "step = 0.01\n",
        "\n",
        "threshold = []\n",
        "degree = []\n",
        "\n",
        "for t in np.arange(start, end + step, step):\n",
        "    threshold.append(t)\n",
        "\n",
        "    # Create an empty list to store the edges\n",
        "    edges = []\n",
        "\n",
        "    # Iterate over the correlation matrix and extract the edges based on the threshold\n",
        "    for i in range(len(correlation_matrix.columns)):\n",
        "        for j in range(i + 1, len(correlation_matrix.columns)):\n",
        "            weight = correlation_matrix.iloc[i, j]  # Access the correlation using .iloc\n",
        "            if abs(weight) >= t:\n",
        "                edges.append([i, j, weight])\n",
        "\n",
        "    x = len(edges)\n",
        "    degree.append(x)\n",
        "\n",
        "# Plot the data\n",
        "plt.plot(threshold, degree, label='Threshold Vs Edges', color='blue')\n",
        "\n",
        "# Add labels for the x and y axes\n",
        "plt.xlabel('Threshold')\n",
        "plt.ylabel('Edges')\n",
        "\n",
        "# Add a legend\n",
        "plt.legend()\n",
        "plt.show()"
      ]
    },
    {
      "cell_type": "code",
      "execution_count": null,
      "metadata": {
        "id": "3_djZVhFP3SL"
      },
      "outputs": [],
      "source": [
        "# Set the threshold value\n",
        "threshold = 0.9\n",
        "\n",
        "  # Get the company names from the column names of the correlation matrix\n",
        "company_names = correlation_matrix.columns.tolist()\n",
        "\n",
        "  # Create an empty list to store the edges\n",
        "edges = []\n",
        "\n",
        "  # Iterate over the correlation matrix and extract the edges based on the threshold\n",
        "for i in range(len(company_names)):\n",
        "  for j in range(i + 1, len(company_names)):\n",
        "    from_edge = company_names[i]\n",
        "    to_edge = company_names[j]\n",
        "    weight = correlation_matrix.iloc[i, j]\n",
        "    if abs(weight) >= threshold:\n",
        "      edges.append([from_edge, to_edge, weight])\n",
        "# Create a DataFrame from the edges list\n",
        "edge_list = pd.DataFrame(edges, columns=['Source', 'Target', 'Weight'])\n",
        "\n",
        "# Export the edge list as a CSV file\n",
        "edge_list.to_csv('bseedge_list500.csv', index=False)"
      ]
    },
    {
      "cell_type": "code",
      "execution_count": null,
      "metadata": {
        "id": "LhqcI7fcQScb"
      },
      "outputs": [],
      "source": [
        "print(edge_list)"
      ]
    },
    {
      "cell_type": "code",
      "execution_count": null,
      "metadata": {
        "id": "XorEa4yVrjM6"
      },
      "outputs": [],
      "source": [
        "start = 0.5\n",
        "end = 1.0\n",
        "step = 0.01\n",
        "\n",
        "threshold = []\n",
        "modularity = []\n",
        "\n",
        "for t in np.arange(start, end + step, step):\n",
        "    threshold.append(t)\n",
        "    company_names = correlation_matrix.columns.tolist()\n",
        "\n",
        "    # Create an empty list to store the edges\n",
        "    edges = []\n",
        "\n",
        "      # Iterate over the correlation matrix and extract the edges based on the threshold\n",
        "    for i in range(len(company_names)):\n",
        "      for j in range(i + 1, len(company_names)):\n",
        "        from_edge = company_names[i]\n",
        "        to_edge = company_names[j]\n",
        "        weight = correlation_matrix.iloc[i, j]\n",
        "        if abs(weight) >= t:\n",
        "          edges.append([from_edge, to_edge, weight])\n",
        "    # Create a DataFrame from the edges list\n",
        "    edge_list = pd.DataFrame(edges, columns=['Source', 'Target', 'Weight'])\n",
        "    # Create an empty graph\n",
        "    G = nx.Graph()\n",
        "    # Iterate over the edge list and add nodes and weighted edges to the graph\n",
        "    for row in edge_list.itertuples():\n",
        "        source = row.Source\n",
        "        target = row.Target\n",
        "        weight = row.Weight\n",
        "        G.add_node(source)\n",
        "        G.add_node(target)\n",
        "        G.add_edge(source, target, weight=weight)\n",
        "    # Modularity\n",
        "    communities = list(nx.community.greedy_modularity_communities(G))\n",
        "    modularity.append(nx.community.modularity(G, communities))\n",
        "\n",
        "# Plot the data\n",
        "plt.plot(threshold, modularity, label='Threshold Vs Modularity', color='blue')\n",
        "\n",
        "# Add labels for the x and y axes\n",
        "plt.xlabel('Threshold')\n",
        "plt.ylabel('Modularity')\n",
        "\n",
        "# Add a legend\n",
        "plt.legend()\n",
        "plt.show()"
      ]
    },
    {
      "cell_type": "code",
      "source": [
        "max_modularity_index = np.argmax(modularity)\n",
        "max_modularity = modularity[max_modularity_index]\n",
        "corresponding_threshold = threshold[max_modularity_index]\n",
        "\n",
        "print(f\"Maximum Modularity: {max_modularity} at Threshold: {corresponding_threshold}\")"
      ],
      "metadata": {
        "id": "zn-ksyn168HZ"
      },
      "execution_count": null,
      "outputs": []
    },
    {
      "cell_type": "code",
      "execution_count": null,
      "metadata": {
        "id": "T_FE5m_bQehX"
      },
      "outputs": [],
      "source": [
        "import networkx as nx\n",
        "\n",
        "# Create an empty graph\n",
        "G = nx.Graph()\n",
        "\n",
        "# Iterate over the edge list and add nodes and weighted edges to the graph\n",
        "for row in edge_list.itertuples():\n",
        "    source = row.Source\n",
        "    target = row.Target\n",
        "    weight = row.Weight\n",
        "    G.add_node(source)\n",
        "    G.add_node(target)\n",
        "    G.add_edge(source, target, weight=weight)\n",
        "\n",
        "# Modularity\n",
        "communities = list(nx.community.greedy_modularity_communities(G))\n",
        "modularity = nx.community.modularity(G, communities)\n",
        "print(modularity)\n"
      ]
    },
    {
      "cell_type": "code",
      "execution_count": null,
      "metadata": {
        "id": "o0h30Qukak7w"
      },
      "outputs": [],
      "source": [
        "# Calculate network science parameters\n",
        "# Degree Centrality\n",
        "degree_centrality = nx.degree_centrality(G)\n",
        "max_degree_node = max(degree_centrality, key=degree_centrality.get)\n",
        "print(\"Company with Maximum Degree Centrality:\")\n",
        "print(\"Company Name:\", max_degree_node)\n",
        "print(\"Degree Centrality:\", degree_centrality[max_degree_node])\n",
        "# Betweenness Centrality\n",
        "betweenness_centrality = nx.betweenness_centrality(G)\n",
        "max_betweenness_node = max(betweenness_centrality, key=betweenness_centrality.get)\n",
        "print(\"Company with Maximum Betweenness Centrality:\")\n",
        "print(\"Company Name:\", max_betweenness_node)\n",
        "print(\"Betweenness Centrality:\", betweenness_centrality[max_betweenness_node])\n",
        "\n",
        "# Closeness Centrality\n",
        "closeness_centrality = nx.closeness_centrality(G)\n",
        "max_closeness_node = max(closeness_centrality, key=closeness_centrality.get)\n",
        "print(\"Company with Maximum Closeness Centrality:\")\n",
        "print(\"Company Name:\", max_closeness_node)\n",
        "print(\"Closeness Centrality:\", closeness_centrality[max_closeness_node])\n",
        "\n",
        "# Eigenvector Centrality\n",
        "eigenvector_centrality = nx.eigenvector_centrality(G)\n",
        "max_eigenvector_node = max(eigenvector_centrality, key=eigenvector_centrality.get)\n",
        "print(\"Company with Maximum Eigenvector Centrality:\")\n",
        "print(\"Company Name:\", max_eigenvector_node)\n",
        "print(\"Eigenvector Centrality:\", eigenvector_centrality[max_eigenvector_node])\n",
        "\n",
        "# Clustering Coefficient\n",
        "clustering_coefficient = nx.clustering(G)\n",
        "max_clustering_node = max(clustering_coefficient, key=clustering_coefficient.get)\n",
        "print(\"Company with Maximum Clustering Coefficient:\")\n",
        "print(\"Company Name:\", max_clustering_node)\n",
        "print(\"Clustering Coefficient:\", clustering_coefficient[max_clustering_node])\n"
      ]
    },
    {
      "cell_type": "code",
      "execution_count": null,
      "metadata": {
        "id": "1DDBDcVGw7w1"
      },
      "outputs": [],
      "source": [
        "import networkx as nx\n",
        "import matplotlib.pyplot as plt\n",
        "\n",
        "# Create or load your graph (G) using NetworkX\n",
        "# ...\n",
        "\n",
        "# Perform community detection using the Louvain method\n",
        "communities = list(nx.community.greedy_modularity_communities(G))\n",
        "modularity = nx.community.modularity(G, communities)\n",
        "\n",
        "# Create a mapping of nodes to communities\n",
        "community_mapping = {}\n",
        "for i, community in enumerate(communities):\n",
        "    for node in community:\n",
        "        community_mapping[node] = i\n",
        "\n",
        "# Extract positions of nodes in the graph\n",
        "pos = nx.spring_layout(G)\n",
        "\n",
        "# Create a custom color map for communities\n",
        "num_communities = len(communities)\n",
        "cmap = plt.get_cmap('jet', num_communities)\n",
        "\n",
        "# Draw nodes and edges\n",
        "nx.draw(G, pos, with_labels=True, node_size=50)\n",
        "nx.draw_networkx_edges(G, pos, alpha=0.5)\n",
        "\n",
        "# Draw nodes with colors based on communities using the custom color map\n",
        "node_colors = [community_mapping[node] for node in G.nodes()]\n",
        "node_color_values = [cmap(i) for i in node_colors]\n",
        "nx.draw_networkx_nodes(G, pos, node_color=node_color_values, node_size=50)\n",
        "\n",
        "# Add a legend\n",
        "legend_labels = {community_id: f\"Community {community_id}\" for community_id in set(community_mapping.values())}\n",
        "\n",
        "# Print the modularity and the number of communities\n",
        "print(\"Modularity:\", modularity)\n",
        "print(\"Number of Communities:\", num_communities)\n",
        "nx.write_graphml(G, \"graph.gephi.graphml\")"
      ]
    },
    {
      "cell_type": "code",
      "execution_count": null,
      "metadata": {
        "id": "k6ZrmQAY2zUt"
      },
      "outputs": [],
      "source": [
        "for i, community in enumerate(communities):\n",
        "    print(f\"Community {i + 1}: {list(community)}\")"
      ]
    },
    {
      "cell_type": "code",
      "execution_count": null,
      "metadata": {
        "id": "iierXmD4ORST"
      },
      "outputs": [],
      "source": [
        "import matplotlib.pyplot as plt\n",
        "\n",
        "# Assuming you already have communities obtained using greedy_modularity_communities\n",
        "communities = list(nx.community.greedy_modularity_communities(G))\n",
        "\n",
        "# Function to find unique sectors within a community\n",
        "def find_unique_sectors(community):\n",
        "    unique_sectors = set()\n",
        "    for comm in list(community):\n",
        "        sectors = ', '.join(data.loc[data['Issuer Name'] == comm, 'Sector'].unique())\n",
        "        unique_sectors.add(sectors)\n",
        "    return unique_sectors\n",
        "\n",
        "# Plot bar graphs for sector distribution within each community\n",
        "for i, community in enumerate(communities):\n",
        "    unique_sectors = find_unique_sectors(community)\n",
        "    print(f\"Community {i + 1} ({len(community)} nodes): {list(community)}\")\n",
        "    print(f\"Unique Sectors: {unique_sectors}\")\n",
        "\n",
        "    # Count occurrences of each sector within the community\n",
        "    sector_counts = {}\n",
        "    for comm in list(community):\n",
        "            sectors = ', '.join(data.loc[data['Issuer Name'] == comm, 'Sector'].unique())\n",
        "            #print(sectors)\n",
        "            if sectors not in sector_counts:\n",
        "                sector_counts[sectors] = 1\n",
        "            else:\n",
        "                sector_counts[sectors] += 1\n",
        "            unique_sectors.add(sectors)\n",
        "\n",
        "    # Plot the bar graph\n",
        "    plt.bar(sector_counts.keys(), sector_counts.values())\n",
        "    plt.xlabel('Sector')\n",
        "    plt.ylabel('Count')\n",
        "    plt.title(f'Sector Distribution in Community {i + 1}')\n",
        "    plt.xticks(rotation=45)\n",
        "    plt.show()\n",
        "\n",
        "    print()\n"
      ]
    },
    {
      "cell_type": "code",
      "execution_count": null,
      "metadata": {
        "id": "gD8SSO2R1qsa"
      },
      "outputs": [],
      "source": [
        "# Assuming you already have communities obtained using greedy_modularity_communities\n",
        "communities = list(nx.community.greedy_modularity_communities(G))\n",
        "\n",
        "# Function to find sub-communities within a given community\n",
        "def find_sub_communities(community, G):\n",
        "    subgraph = G.subgraph(community)\n",
        "    sub_communities = list(nx.community.greedy_modularity_communities(subgraph))\n",
        "    return sub_communities\n",
        "\n",
        "# Find sub-communities for each community\n",
        "all_sub_communities = []\n",
        "for i, community in enumerate(communities):\n",
        "    sub_communities = find_sub_communities(community, G)\n",
        "    all_sub_communities.append(sub_communities)\n",
        "\n",
        "    print(f\"Sub-Communities for Community {i + 1} (Total {len(community)} nodes):\")\n",
        "    for j, sub_community in enumerate(sub_communities):\n",
        "        print(f\"Sub-Community {j + 1} ({len(sub_community)} nodes): {list(sub_community)}\")"
      ]
    },
    {
      "cell_type": "code",
      "execution_count": null,
      "metadata": {
        "id": "Z6Yfl0_pjfGM"
      },
      "outputs": [],
      "source": [
        "# Function to find sub-communities within a given community\n",
        "def find_sub_communities(community, G):\n",
        "    subgraph = G.subgraph(community)\n",
        "    sub_communities = list(nx.community.greedy_modularity_communities(subgraph))\n",
        "    return sub_communities\n",
        "\n",
        "# Find sub-communities for each community\n",
        "all_sub_communities = []\n",
        "for i, community in enumerate(communities):\n",
        "    sub_communities = find_sub_communities(community, G)\n",
        "    all_sub_communities.append(sub_communities)\n",
        "\n",
        "    print(f\"Sub-Communities for Community {i + 1} (Total {len(community)} nodes):\")\n",
        "    for j, sub_community in enumerate(sub_communities):\n",
        "        unique_sectors = set()\n",
        "        sec = {}\n",
        "        print(f\"Sub-Community {j + 1} ({len(sub_community)} nodes): {list(sub_community)}\")\n",
        "        for comm in list(sub_community):\n",
        "            sectors = ', '.join(data.loc[data['Issuer Name'] == comm, 'Sector'].unique())\n",
        "            #print(sectors)\n",
        "            if sectors not in sec:\n",
        "                sec[sectors] = 1\n",
        "            else:\n",
        "                sec[sectors] += 1\n",
        "            unique_sectors.add(sectors)\n",
        "        print(\"Unique Sectors:\", unique_sectors)\n",
        "        print(\"Sectors:\", sec)\n"
      ]
    },
    {
      "cell_type": "code",
      "execution_count": null,
      "metadata": {
        "id": "ZAeSquTYKOMA"
      },
      "outputs": [],
      "source": [
        "import matplotlib.pyplot as plt\n",
        "\n",
        "# Assuming you already have communities obtained using greedy_modularity_communities\n",
        "communities = list(nx.community.greedy_modularity_communities(G))\n",
        "\n",
        "# Function to find unique sectors within a community\n",
        "def find_unique_sectors(community):\n",
        "    unique_sectors = set()\n",
        "    for comm in list(community):\n",
        "        sectors = ', '.join(data.loc[data['Issuer Name'] == comm, 'Sector'].unique())\n",
        "        unique_sectors.add(sectors)\n",
        "    return unique_sectors\n",
        "\n",
        "# Plot bar graphs for sector distribution within each sub-community\n",
        "for i, community in enumerate(communities):\n",
        "    print(f\"Community {i + 1} ({len(community)} nodes): {list(community)}\")\n",
        "\n",
        "    # Find sub-communities within the current community\n",
        "    sub_communities = list(nx.community.greedy_modularity_communities(G.subgraph(community)))\n",
        "\n",
        "    # Plot sector distribution for each sub-community\n",
        "    for j, sub_community in enumerate(sub_communities):\n",
        "        unique_sectors = find_unique_sectors(sub_community)\n",
        "        print(f\"Sub-Community {j + 1} ({len(sub_community)} nodes): {list(sub_community)}\")\n",
        "        print(f\"Unique Sectors: {unique_sectors}\")\n",
        "\n",
        "        # Count occurrences of each sector within the sub-community\n",
        "        sector_counts = {}\n",
        "        for comm in list(sub_community):\n",
        "            sectors = ', '.join(data.loc[data['Issuer Name'] == comm, 'Sector'].unique())\n",
        "            if sectors not in sector_counts:\n",
        "                sector_counts[sectors] = 1\n",
        "            else:\n",
        "                sector_counts[sectors] += 1\n",
        "\n",
        "        # Plot the bar graph for the sub-community\n",
        "        plt.bar(sector_counts.keys(), sector_counts.values())\n",
        "        plt.xlabel('Sector')\n",
        "        plt.ylabel('Count')\n",
        "        plt.title(f'Sector Distribution in Sub-Community {j + 1} (Community {i + 1})')\n",
        "        plt.xticks(rotation=45)\n",
        "        plt.show()\n",
        "\n",
        "    print()\n"
      ]
    },
    {
      "cell_type": "code",
      "execution_count": null,
      "metadata": {
        "id": "VEpt7YOt48jA"
      },
      "outputs": [],
      "source": [
        "import networkx as nx\n",
        "import matplotlib.pyplot as plt\n",
        "\n",
        "\n",
        "# List of community detection algorithms to test communities = list(nx.community.greedy_modularity_communities(G))\n",
        "algorithms = [\n",
        "    (\"Girvan-Newman\", nx.community.girvan_newman(G)),\n",
        "    (\"Louvain\", nx.community.greedy_modularity_communities(G)),\n",
        "    (\"Label Propagation\", nx.community.label_propagation_communities(G)),\n",
        "    (\"K-Clique\", nx.community.k_clique_communities(G, 10)),  # Adjust k as needed\n",
        "    (\"Modularity\", nx.community.greedy_modularity_communities(G)),  # Modularity-based detection\n",
        "    # Add more algorithms as needed\n",
        "]\n",
        "\n",
        "# Dictionary to store the number of communities detected for each algorithm\n",
        "community_counts = {}\n",
        "# Iterate through the algorithms and print the number of communities\n",
        "for algorithm_name, algorithm in algorithms:\n",
        "    if isinstance(algorithm, list):\n",
        "        communities = algorithm\n",
        "    else:\n",
        "        communities = list(algorithm)\n",
        "\n",
        "    num_communities = len(communities)\n",
        "    community_counts[algorithm_name] = num_communities\n",
        "    print(f\"{algorithm_name} detected {num_communities} communities\")\n",
        "\n",
        "\n",
        "# Plot the results\n",
        "plt.figure(figsize=(12, 6))\n",
        "plt.bar(community_counts.keys(), community_counts.values())\n",
        "plt.xlabel(\"Community Detection Algorithm\")\n",
        "plt.ylabel(\"Number of Communities Detected\")\n",
        "plt.title(\"Number of Communities Detected by Different Algorithms\")\n",
        "plt.xticks(rotation=45)\n",
        "plt.tight_layout()\n",
        "plt.show()"
      ]
    },
    {
      "cell_type": "code",
      "execution_count": null,
      "metadata": {
        "id": "48Fvh48lh0Rh"
      },
      "outputs": [],
      "source": []
    }
  ],
  "metadata": {
    "accelerator": "GPU",
    "colab": {
      "provenance": []
    },
    "kernelspec": {
      "display_name": "Python 3",
      "name": "python3"
    },
    "language_info": {
      "name": "python"
    }
  },
  "nbformat": 4,
  "nbformat_minor": 0
}
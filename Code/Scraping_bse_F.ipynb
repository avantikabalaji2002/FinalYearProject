{
 "cells": [
  {
   "cell_type": "code",
   "execution_count": 5,
   "id": "1cf246e9",
   "metadata": {},
   "outputs": [],
   "source": [
    "import os\n",
    "import pandas as pd\n",
    "import time\n",
    "\n",
    "from selenium import webdriver\n",
    "from selenium.webdriver.common.by import By\n",
    "from selenium.webdriver.common.keys import Keys\n",
    "from selenium.webdriver.support.ui import WebDriverWait\n",
    "from webdriver_manager.chrome import ChromeDriverManager\n",
    "from selenium.webdriver.chrome.service import Service\n",
    "from selenium.webdriver.support.ui import WebDriverWait\n",
    "from selenium import webdriver\n",
    "from selenium.webdriver.support import expected_conditions as EC\n",
    "from selenium.webdriver.common.action_chains import ActionChains"
   ]
  },
  {
   "cell_type": "code",
   "execution_count": 10,
   "id": "95645977",
   "metadata": {},
   "outputs": [
    {
     "name": "stdout",
     "output_type": "stream",
     "text": [
      "Requirement already satisfied: pandas in c:\\users\\charitha\\anaconda3\\lib\\site-packages (2.1.2)\n",
      "Requirement already satisfied: numpy<2,>=1.22.4 in c:\\users\\charitha\\anaconda3\\lib\\site-packages (from pandas) (1.26.1)\n",
      "Requirement already satisfied: python-dateutil>=2.8.2 in c:\\users\\charitha\\anaconda3\\lib\\site-packages (from pandas) (2.8.2)\n",
      "Requirement already satisfied: pytz>=2020.1 in c:\\users\\charitha\\anaconda3\\lib\\site-packages (from pandas) (2021.3)\n",
      "Requirement already satisfied: tzdata>=2022.1 in c:\\users\\charitha\\anaconda3\\lib\\site-packages (from pandas) (2023.3)\n"
     ]
    },
    {
     "name": "stderr",
     "output_type": "stream",
     "text": [
      "WARNING: Ignoring invalid distribution -umpy (c:\\users\\charitha\\anaconda3\\lib\\site-packages)\n",
      "WARNING: Ignoring invalid distribution -umpy (c:\\users\\charitha\\anaconda3\\lib\\site-packages)\n"
     ]
    },
    {
     "name": "stdout",
     "output_type": "stream",
     "text": [
      "Requirement already satisfied: six>=1.5 in c:\\users\\charitha\\anaconda3\\lib\\site-packages (from python-dateutil>=2.8.2->pandas) (1.16.0)\n"
     ]
    }
   ],
   "source": [
    "!pip install --upgrade pandas"
   ]
  },
  {
   "cell_type": "code",
   "execution_count": 6,
   "id": "836eed73",
   "metadata": {},
   "outputs": [],
   "source": [
    "class Scraping:\n",
    "    def _init_(self):\n",
    "        # Define the directory where ChromeDriver will be stored\n",
    "        chrome_driver_path = r'C:\\Users\\CHARITHA\\Downloads\\chromedriver-win64\\chromedriver-win64\\chromedriver.exe'\n",
    "        # Initialize the ChromeDriver\n",
    "        chrome_options = webdriver.ChromeOptions()\n",
    "        service = Service(chrome_driver_path)\n",
    "        self.driver = webdriver.Chrome(service=service, options=chrome_options)\n",
    "        self.START_DATE = \"01/04/2018\"\n",
    "        self.END_DATE = \"31/03/2023\"\n",
    "        self.BASE_URL = \"https://www.bseindia.com/markets/equity/EQReports/StockPrcHistori.aspx?expandable=7\"\n",
    "        self.companies = []\n",
    "        self.download_dir = r\"c:\\Users\\CHARITHA\\Downloads\"\n",
    "        self.company_files = {}\n",
    "        self.company_sector={}\n",
    "        self.file_count = 0\n",
    "    def get_codes(self, file_name) -> list:\n",
    "        companies = pd.read_csv(file_name)\n",
    "        companies = companies.iloc[:,0].values.tolist()\n",
    "        self.company = companies\n",
    "        return companies[1000:2001]\n",
    "           \n",
    "    def singular_file_extraction(self, company: str) -> None:\n",
    "        input_search = self.driver.find_element(By.ID, 'ContentPlaceHolder1_smartSearch')\n",
    "        input_search.clear()\n",
    "        input_search.send_keys(company)\n",
    "        time.sleep(3)\n",
    "        # Select the first child from the list of suggestions by class name\n",
    "        first_suggestion = self.driver.find_element(By.CLASS_NAME, \"quotemenu\")  # Replace with the actual class name of the <li> element\n",
    "        first_suggestion.click()\n",
    "        s=self.driver.find_element(By.ID, \"ContentPlaceHolder1_btnSubmit\")\n",
    "        self.driver.execute_script(\"arguments[0].click();\",s)\n",
    "        time.sleep(3)\n",
    "        d=self.driver.find_element(By.ID, \"ContentPlaceHolder1_btnDownload\")\n",
    "        self.driver.execute_script(\"arguments[0].click();\", d)\n",
    "        time.sleep(3)\n",
    "        \n",
    "        try:\n",
    "            files = os.listdir(self.download_dir)\n",
    "            paths = [os.path.join(self.download_dir, basename) for basename in files]\n",
    "            most_recent_file = max(paths, key=os.path.getctime)\n",
    "            most_recent_file_name = os.path.basename(most_recent_file)\n",
    "\n",
    "            self.company_files[company] = most_recent_file_name\n",
    "            print(f\"Most recently downloaded file for {company}: {most_recent_file_name}\")\n",
    "        except Exception as e:\n",
    "            print(f\"Exception: {e}\")\n",
    "            print(f\"Could not find most recently downloaded file for {company}\")\n",
    "            \n",
    "    def get_sector(self):\n",
    "        self.driver.get(self.BASE_URL)\n",
    "        self.driver.maximize_window()\n",
    "        editable_div = self.driver.find_elements(By.XPATH, '//input[@class=\"form-control hasDatepicker\"]')\n",
    "        self.driver.execute_script(f'arguments[0].setAttribute(\"value\", \"{self.START_DATE}\")', editable_div[0])\n",
    "        self.driver.execute_script(f'arguments[0].setAttribute(\"value\", \"{self.END_DATE}\")', editable_div[1])\n",
    "        time.sleep(5)\n"
   ]
  },
  {
   "cell_type": "code",
   "execution_count": 7,
   "id": "233eb480",
   "metadata": {},
   "outputs": [
    {
     "name": "stdout",
     "output_type": "stream",
     "text": [
      "[514183, 514197, 514211, 514215, 514223, 514234, 514236, 514238, 514240, 514248, 514260, 514264, 514266, 514272, 514274, 514280, 514286, 514300, 514302, 514312, 514316, 514318, 514322, 514326, 514330, 514332, 514336, 514348, 514354, 514358, 514360, 514378, 514386, 514400, 514418, 514428, 514442, 514448, 514450, 514454, 514470, 515008, 515018, 515030, 515037, 515043, 515055, 515059, 515085, 515093, 515127, 515147, 516003, 516016, 516020, 516022, 516030, 516062, 516064, 516072, 516078, 516082, 516092, 516096, 516106, 516108, 516110, 517015, 517035, 517041, 517044, 517059, 517063, 517077, 517096, 517119, 517146, 517166, 517168, 517170, 517172, 517174, 517201, 517206, 517214, 517236, 517238, 517246, 517258, 517264, 517271, 517273, 517288, 517300, 517334, 517344, 517354, 517356, 517360, 517370, 517372, 517380, 517385, 517393, 517397, 517399, 517411, 517415, 517417, 517421, 517423, 517429, 517437, 517447, 517449, 517467, 517477, 517494, 517498, 517500, 517506, 517514, 517522, 517530, 517536, 517544, 517546, 517548, 517554, 517556, 517562, 517569, 517571, 518011, 518017, 518075, 518091, 519003, 519014, 519031, 519064, 519091, 519097, 519105, 519126, 519136, 519152, 519156, 519174, 519183, 519191, 519214, 519216, 519224, 519234, 519238, 519242, 519262, 519279, 519285, 519287, 519295, 519299, 519307, 519331, 519353, 519359, 519367, 519383, 519397, 519413, 519415, 519421, 519439, 519455, 519457, 519463, 519471, 519475, 519477, 519483, 519494, 519500, 519506, 519528, 519532, 519552, 519566, 519574, 519600, 519602, 519604, 519606, 519612, 520008, 520021, 520043, 520051, 520056, 520057, 520059, 520066, 520073, 520075, 520081, 520086, 520111, 520113, 520119, 520121, 520123, 520127, 520131, 520141, 520151, 520155, 521003, 521005, 521014, 521016, 521018, 521034, 521048, 521054, 521062, 521064, 521068, 521070, 521080, 521082, 521097, 521105, 521109, 521113, 521131, 521133, 521137, 521141, 521149, 521151, 521161, 521163, 521178, 521180, 521188, 521194, 521200, 521206, 521210, 521216, 521220, 521222, 521226, 521228, 521232, 521234, 521240, 521242, 521246, 521248, 522001, 522004, 522005, 522014, 522017, 522027, 522029, 522034, 522036, 522064, 522073, 522074, 522091, 522101, 522105, 522108, 522113, 522122, 522134, 522152, 522163, 522165, 522171, 522183, 522195, 522205, 522207, 522209, 522215, 522217, 522229, 522231, 522235, 522237, 522241, 522245, 522249, 522251, 522257, 522261, 522267, 522273, 522275, 522281, 522285, 522287, 522289, 522292, 522294, 522295, 522650, 523007, 523011, 523019, 523021, 523023, 523025, 523054, 523062, 523100, 523113, 523116, 523120, 523127, 523144, 523151, 523160, 523186, 523204, 523207, 523222, 523229, 523232, 523242, 523248, 523260, 523261, 523269, 523277, 523283, 523289, 523301, 523309, 523315, 523319, 523323, 523329, 523343, 523367, 523369, 523371, 523373, 523384, 523385, 523391, 523395, 523398, 523405, 523411, 523419, 523425, 523445, 523449, 523457, 523465, 523467, 523475, 523483, 523489, 523519, 523537, 523539, 523550, 523558, 523566, 523574, 523586, 523594, 523598, 523606, 523610, 523618, 523620, 523628, 523630, 523638, 523642, 523648, 523650, 523652, 523660, 523672, 523676, 523694, 523696, 523704, 523708, 523710, 523716, 523732, 523736, 523752, 523754, 523782, 523790, 523792, 523826, 523828, 523832, 523836, 523838, 523840, 523842, 523844, 523850, 523862, 523874, 523888, 523896, 524000, 524013, 524019, 524031, 524037, 524038, 524046, 524051, 524075, 524080, 524091, 524109, 524129, 524136, 524156, 524164, 524174, 524200, 524202, 524204, 524208, 524210, 524212, 524218, 524226, 524230, 524238, 524280, 524288, 524314, 524324, 524330, 524332, 524336, 524342, 524348, 524370, 524372, 524394, 524396, 524400, 524404, 524408, 524412, 524414, 524434, 524440, 524444, 524458, 524470, 524480, 524488, 524494, 524500, 524502, 524506, 524514, 524518, 524520, 524522, 524534, 524542, 524546, 524558, 524564, 524570, 524572, 524576, 524580, 524582, 524592, 524594, 524598, 524604, 524606, 524614, 524622, 524624, 524628, 524632, 524634, 524636, 524640, 524642, 524648, 524652, 524654, 524661, 524663, 524667, 524669, 524675, 524687, 524703, 524709, 524711, 524715, 524717, 524723, 524727, 524731, 524735, 524742, 524743, 524748, 524752, 524768, 524774, 524790, 524804, 524808, 524816, 524818, 524820, 524824, 524828, 526001, 526025, 526027, 526043, 526073, 526081, 526095, 526113, 526115, 526117, 526133, 526137, 526139, 526143, 526159, 526161, 526169, 526173, 526179, 526187, 526193, 526211, 526217, 526225, 526227, 526231, 526237, 526241, 526247, 526251, 526263, 526269, 526299, 526301, 526315, 526325, 526335, 526345, 526349, 526355, 526365, 526367, 526371, 526373, 526381, 526397, 526407, 526409, 526415, 526423, 526431, 526433, 526435, 526439, 526441, 526445, 526468, 526471, 526473, 526479, 526481, 526488, 526492, 526494, 526500, 526506, 526519, 526521, 526525, 526532, 526544, 526546, 526550, 526568, 526570, 526574, 526576, 526582, 526586, 526588, 526596, 526604, 526608, 526612, 526614, 526616, 526622, 526628, 526638, 526640, 526642, 526650, 526654, 526662, 526666, 526668, 526675, 526677, 526687, 526703, 526705, 526709, 526711, 526717, 526721, 526723, 526725, 526727, 526729, 526731, 526739, 526747, 526751, 526755, 526761, 526773, 526775, 526783, 526795, 526797, 526799, 526807, 526813, 526817, 526821, 526823, 526827, 526829, 526839, 526847, 526849, 526851, 526853, 526859, 526861, 526865, 526869, 526871, 526873, 526877, 526881, 526885, 526891, 526899, 526901, 526905, 526921, 526931, 526935, 526945, 526947, 526951, 526953, 526961, 526965, 526967, 526971, 526977, 526981, 526983, 526987, 527001, 527005, 530001, 530005, 530007, 530011, 530017, 530019, 530023, 530025, 530027, 530035, 530043, 530045, 530053, 530055, 530057, 530063, 530065, 530067, 530073, 530075, 530077, 530079, 530109, 530111, 530117, 530119, 530125, 530127, 530129, 530131, 530133, 530135, 530139, 530145, 530151, 530161, 530163, 530167, 530169, 530171, 530173, 530175, 530179, 530185, 530187, 530197, 530199, 530201, 530207, 530213, 530215, 530217, 530231, 530233, 530235, 530239, 530245, 530249, 530251, 530253, 530255, 530259, 530263, 530265, 530267, 530271, 530281, 530289, 530291, 530299, 530305, 530307, 530309, 530313, 530315, 530317, 530331, 530341, 530343, 530355, 530357, 530361, 530363, 530365, 530367, 530369, 530377, 530393, 530401, 530405, 530407, 530419, 530421, 530427, 530429, 530431, 530433, 530439, 530443, 530445, 530449, 530457, 530459, 530461, 530469, 530475, 530477, 530495, 530499, 530517, 530521, 530525, 530533, 530537, 530545, 530547, 530549, 530555, 530557, 530565, 530571, 530577, 530579, 530581, 530585, 530589, 530601, 530609, 530611, 530615, 530617, 530621, 530627, 530643, 530655, 530663, 530665, 530669, 530675, 530677, 530689, 530695, 530697, 530699, 530705, 530709, 530711, 530713, 530715, 530723, 530733, 530735, 530741, 530747, 530755, 530759, 530765, 530779, 530789, 530795, 530797, 530799, 530803, 530805, 530809, 530813, 530821, 530825, 530829, 530839, 530843, 530845, 530853, 530855, 530871, 530879, 530881, 530883, 530897, 530899, 530907, 530909, 530917, 530919, 530925, 530929, 530931, 530951, 530953, 530959, 530961, 530965, 530973, 530977, 530979, 530991, 530997, 530999, 531003, 531017, 531025, 531027, 531035, 531041, 531043, 531049, 531051, 531065, 531067, 531069, 531080, 531082, 531083, 531091, 531092, 531109, 531111, 531112, 531119, 531120, 531127, 531129, 531137, 531144, 531146, 531147, 531153, 531155, 531156, 531157, 531158, 531161, 531162, 531163, 531168, 531169, 531173, 531175, 531176, 531178, 531179, 531199, 531201, 531203, 531205, 531209, 531210, 531212, 531213, 531215, 531216, 531219, 531221, 531223, 531225, 531227, 531228, 531233, 531234, 531235, 531237, 531240, 531241, 531246, 531253, 531254, 531255, 531257, 531259, 531260, 531265, 531266, 531268, 531272, 531273, 531274, 531278, 531279, 531280, 531281, 531283, 531287, 531288, 531289, 531297, 531300, 531304, 531306, 531307, 531310, 531314, 531322, 531323, 531324, 531327, 531328, 531334, 531335, 531337, 531338, 531340, 531341, 531344]\n"
     ]
    },
    {
     "ename": "AttributeError",
     "evalue": "'Scraping' object has no attribute 'driver'",
     "output_type": "error",
     "traceback": [
      "\u001b[1;31m---------------------------------------------------------------------------\u001b[0m",
      "\u001b[1;31mAttributeError\u001b[0m                            Traceback (most recent call last)",
      "Input \u001b[1;32mIn [7]\u001b[0m, in \u001b[0;36m<cell line: 4>\u001b[1;34m()\u001b[0m\n\u001b[0;32m      2\u001b[0m companies \u001b[38;5;241m=\u001b[39m scraping\u001b[38;5;241m.\u001b[39mget_codes(\u001b[38;5;124m'\u001b[39m\u001b[38;5;124mEquity (1).csv\u001b[39m\u001b[38;5;124m'\u001b[39m)\n\u001b[0;32m      3\u001b[0m \u001b[38;5;28mprint\u001b[39m(companies)\n\u001b[1;32m----> 4\u001b[0m \u001b[43mscraping\u001b[49m\u001b[38;5;241;43m.\u001b[39;49m\u001b[43mget_sector\u001b[49m\u001b[43m(\u001b[49m\u001b[43m)\u001b[49m\n\u001b[0;32m      5\u001b[0m \u001b[38;5;28;01mfor\u001b[39;00m company \u001b[38;5;129;01min\u001b[39;00m companies:\n\u001b[0;32m      6\u001b[0m     scraping\u001b[38;5;241m.\u001b[39msingular_file_extraction(company)  \n",
      "Input \u001b[1;32mIn [6]\u001b[0m, in \u001b[0;36mScraping.get_sector\u001b[1;34m(self)\u001b[0m\n\u001b[0;32m     50\u001b[0m \u001b[38;5;28;01mdef\u001b[39;00m \u001b[38;5;21mget_sector\u001b[39m(\u001b[38;5;28mself\u001b[39m):\n\u001b[1;32m---> 51\u001b[0m     \u001b[38;5;28;43mself\u001b[39;49m\u001b[38;5;241;43m.\u001b[39;49m\u001b[43mdriver\u001b[49m\u001b[38;5;241m.\u001b[39mget(\u001b[38;5;28mself\u001b[39m\u001b[38;5;241m.\u001b[39mBASE_URL)\n\u001b[0;32m     52\u001b[0m     \u001b[38;5;28mself\u001b[39m\u001b[38;5;241m.\u001b[39mdriver\u001b[38;5;241m.\u001b[39mmaximize_window()\n\u001b[0;32m     53\u001b[0m     editable_div \u001b[38;5;241m=\u001b[39m \u001b[38;5;28mself\u001b[39m\u001b[38;5;241m.\u001b[39mdriver\u001b[38;5;241m.\u001b[39mfind_elements(By\u001b[38;5;241m.\u001b[39mXPATH, \u001b[38;5;124m'\u001b[39m\u001b[38;5;124m//input[@class=\u001b[39m\u001b[38;5;124m\"\u001b[39m\u001b[38;5;124mform-control hasDatepicker\u001b[39m\u001b[38;5;124m\"\u001b[39m\u001b[38;5;124m]\u001b[39m\u001b[38;5;124m'\u001b[39m)\n",
      "\u001b[1;31mAttributeError\u001b[0m: 'Scraping' object has no attribute 'driver'"
     ]
    }
   ],
   "source": [
    "scraping = Scraping()\n",
    "companies = scraping.get_codes('Equity (1).csv')\n",
    "print(companies)\n",
    "scraping.get_sector()\n",
    "for company in companies:\n",
    "    scraping.singular_file_extraction(company)  \n",
    "    time.sleep(3)\n",
    "\n",
    "scraping.driver.quit()"
   ]
  },
  {
   "cell_type": "code",
   "execution_count": 14,
   "id": "f77a6d22",
   "metadata": {},
   "outputs": [],
   "source": [
    "final_dataframe = pd.DataFrame()  \n",
    "for company, file_name in scraping.company_files.items():\n",
    "    if not file_name.endswith('.csv'):\n",
    "        continue\n",
    "    file_path = os.path.join(scraping.download_dir, file_name)\n",
    "    df = pd.read_csv(file_path)\n",
    "    df['Co Name'] = company\n",
    "    final_dataframe = final_dataframe.append(df, ignore_index=True)\n",
    "final_dataframe.to_csv(os.path.join(scraping.download_dir, 'final_dataset1_to_2.csv'), index=False)"
   ]
  },
  {
   "cell_type": "code",
   "execution_count": null,
   "id": "92db9407",
   "metadata": {},
   "outputs": [],
   "source": []
  }
 ],
 "metadata": {
  "kernelspec": {
   "display_name": "Python 3 (ipykernel)",
   "language": "python",
   "name": "python3"
  },
  "language_info": {
   "codemirror_mode": {
    "name": "ipython",
    "version": 3
   },
   "file_extension": ".py",
   "mimetype": "text/x-python",
   "name": "python",
   "nbconvert_exporter": "python",
   "pygments_lexer": "ipython3",
   "version": "3.9.12"
  }
 },
 "nbformat": 4,
 "nbformat_minor": 5
}

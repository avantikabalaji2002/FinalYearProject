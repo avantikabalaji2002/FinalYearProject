{
 "cells": [
  {
   "cell_type": "code",
   "execution_count": 3,
   "id": "8c992aea",
   "metadata": {
    "scrolled": true
   },
   "outputs": [
    {
     "name": "stderr",
     "output_type": "stream",
     "text": [
      "C:\\Users\\kausa\\AppData\\Local\\Temp\\ipykernel_11316\\99081744.py:7: DeprecationWarning: executable_path has been deprecated, please pass in a Service object\n",
      "  driver = webdriver.Chrome(ChromeDriverManager().install())\n"
     ]
    },
    {
     "ename": "ElementNotInteractableException",
     "evalue": "Message: element not interactable\n  (Session info: chrome=117.0.5938.150)\nStacktrace:\n\tGetHandleVerifier [0x0037CFE3+45267]\n\t(No symbol) [0x00309741]\n\t(No symbol) [0x001FBCE0]\n\t(No symbol) [0x0022B668]\n\t(No symbol) [0x0022ACBA]\n\t(No symbol) [0x0024B03C]\n\t(No symbol) [0x00227F96]\n\t(No symbol) [0x0024B2B4]\n\t(No symbol) [0x0025DDDA]\n\t(No symbol) [0x0024AE36]\n\t(No symbol) [0x0022674E]\n\t(No symbol) [0x002278ED]\n\tGetHandleVerifier [0x00635659+2897737]\n\tGetHandleVerifier [0x0067E78B+3197051]\n\tGetHandleVerifier [0x00678571+3171937]\n\tGetHandleVerifier [0x00405E40+606000]\n\t(No symbol) [0x0031338C]\n\t(No symbol) [0x0030F508]\n\t(No symbol) [0x0030F62F]\n\t(No symbol) [0x00301D27]\n\tBaseThreadInitThunk [0x76B000C9+25]\n\tRtlGetAppContainerNamedObjectPath [0x776E7B1E+286]\n\tRtlGetAppContainerNamedObjectPath [0x776E7AEE+238]\n",
     "output_type": "error",
     "traceback": [
      "\u001b[1;31m---------------------------------------------------------------------------\u001b[0m",
      "\u001b[1;31mElementNotInteractableException\u001b[0m           Traceback (most recent call last)",
      "Input \u001b[1;32mIn [3]\u001b[0m, in \u001b[0;36m<cell line: 10>\u001b[1;34m()\u001b[0m\n\u001b[0;32m      8\u001b[0m driver\u001b[38;5;241m.\u001b[39mget(\u001b[38;5;124m\"\u001b[39m\u001b[38;5;124mhttps://www.bseindia.com/\u001b[39m\u001b[38;5;124m\"\u001b[39m)\n\u001b[0;32m      9\u001b[0m input_search\u001b[38;5;241m=\u001b[39mdriver\u001b[38;5;241m.\u001b[39mfind_element(By\u001b[38;5;241m.\u001b[39mID, \u001b[38;5;124m'\u001b[39m\u001b[38;5;124mgetquotesearch\u001b[39m\u001b[38;5;124m'\u001b[39m)\n\u001b[1;32m---> 10\u001b[0m \u001b[43minput_search\u001b[49m\u001b[38;5;241;43m.\u001b[39;49m\u001b[43msend_keys\u001b[49m\u001b[43m(\u001b[49m\u001b[38;5;124;43m\"\u001b[39;49m\u001b[38;5;124;43mHindustan Aeronautics Limited\u001b[39;49m\u001b[38;5;124;43m\"\u001b[39;49m\u001b[43m)\u001b[49m\n\u001b[0;32m     11\u001b[0m time\u001b[38;5;241m.\u001b[39msleep(\u001b[38;5;241m5\u001b[39m)\n\u001b[0;32m     12\u001b[0m \u001b[38;5;66;03m# Select the first child from the list of suggestions by class name\u001b[39;00m\n",
      "File \u001b[1;32m~\\anaconda3\\lib\\site-packages\\selenium\\webdriver\\remote\\webelement.py:231\u001b[0m, in \u001b[0;36mWebElement.send_keys\u001b[1;34m(self, *value)\u001b[0m\n\u001b[0;32m    228\u001b[0m             remote_files\u001b[38;5;241m.\u001b[39mappend(\u001b[38;5;28mself\u001b[39m\u001b[38;5;241m.\u001b[39m_upload(file))\n\u001b[0;32m    229\u001b[0m         value \u001b[38;5;241m=\u001b[39m \u001b[38;5;124m\"\u001b[39m\u001b[38;5;130;01m\\n\u001b[39;00m\u001b[38;5;124m\"\u001b[39m\u001b[38;5;241m.\u001b[39mjoin(remote_files)\n\u001b[1;32m--> 231\u001b[0m \u001b[38;5;28;43mself\u001b[39;49m\u001b[38;5;241;43m.\u001b[39;49m\u001b[43m_execute\u001b[49m\u001b[43m(\u001b[49m\n\u001b[0;32m    232\u001b[0m \u001b[43m    \u001b[49m\u001b[43mCommand\u001b[49m\u001b[38;5;241;43m.\u001b[39;49m\u001b[43mSEND_KEYS_TO_ELEMENT\u001b[49m\u001b[43m,\u001b[49m\u001b[43m \u001b[49m\u001b[43m{\u001b[49m\u001b[38;5;124;43m\"\u001b[39;49m\u001b[38;5;124;43mtext\u001b[39;49m\u001b[38;5;124;43m\"\u001b[39;49m\u001b[43m:\u001b[49m\u001b[43m \u001b[49m\u001b[38;5;124;43m\"\u001b[39;49m\u001b[38;5;124;43m\"\u001b[39;49m\u001b[38;5;241;43m.\u001b[39;49m\u001b[43mjoin\u001b[49m\u001b[43m(\u001b[49m\u001b[43mkeys_to_typing\u001b[49m\u001b[43m(\u001b[49m\u001b[43mvalue\u001b[49m\u001b[43m)\u001b[49m\u001b[43m)\u001b[49m\u001b[43m,\u001b[49m\u001b[43m \u001b[49m\u001b[38;5;124;43m\"\u001b[39;49m\u001b[38;5;124;43mvalue\u001b[39;49m\u001b[38;5;124;43m\"\u001b[39;49m\u001b[43m:\u001b[49m\u001b[43m \u001b[49m\u001b[43mkeys_to_typing\u001b[49m\u001b[43m(\u001b[49m\u001b[43mvalue\u001b[49m\u001b[43m)\u001b[49m\u001b[43m}\u001b[49m\n\u001b[0;32m    233\u001b[0m \u001b[43m\u001b[49m\u001b[43m)\u001b[49m\n",
      "File \u001b[1;32m~\\anaconda3\\lib\\site-packages\\selenium\\webdriver\\remote\\webelement.py:403\u001b[0m, in \u001b[0;36mWebElement._execute\u001b[1;34m(self, command, params)\u001b[0m\n\u001b[0;32m    401\u001b[0m     params \u001b[38;5;241m=\u001b[39m {}\n\u001b[0;32m    402\u001b[0m params[\u001b[38;5;124m\"\u001b[39m\u001b[38;5;124mid\u001b[39m\u001b[38;5;124m\"\u001b[39m] \u001b[38;5;241m=\u001b[39m \u001b[38;5;28mself\u001b[39m\u001b[38;5;241m.\u001b[39m_id\n\u001b[1;32m--> 403\u001b[0m \u001b[38;5;28;01mreturn\u001b[39;00m \u001b[38;5;28;43mself\u001b[39;49m\u001b[38;5;241;43m.\u001b[39;49m\u001b[43m_parent\u001b[49m\u001b[38;5;241;43m.\u001b[39;49m\u001b[43mexecute\u001b[49m\u001b[43m(\u001b[49m\u001b[43mcommand\u001b[49m\u001b[43m,\u001b[49m\u001b[43m \u001b[49m\u001b[43mparams\u001b[49m\u001b[43m)\u001b[49m\n",
      "File \u001b[1;32m~\\anaconda3\\lib\\site-packages\\selenium\\webdriver\\remote\\webdriver.py:440\u001b[0m, in \u001b[0;36mWebDriver.execute\u001b[1;34m(self, driver_command, params)\u001b[0m\n\u001b[0;32m    438\u001b[0m response \u001b[38;5;241m=\u001b[39m \u001b[38;5;28mself\u001b[39m\u001b[38;5;241m.\u001b[39mcommand_executor\u001b[38;5;241m.\u001b[39mexecute(driver_command, params)\n\u001b[0;32m    439\u001b[0m \u001b[38;5;28;01mif\u001b[39;00m response:\n\u001b[1;32m--> 440\u001b[0m     \u001b[38;5;28;43mself\u001b[39;49m\u001b[38;5;241;43m.\u001b[39;49m\u001b[43merror_handler\u001b[49m\u001b[38;5;241;43m.\u001b[39;49m\u001b[43mcheck_response\u001b[49m\u001b[43m(\u001b[49m\u001b[43mresponse\u001b[49m\u001b[43m)\u001b[49m\n\u001b[0;32m    441\u001b[0m     response[\u001b[38;5;124m\"\u001b[39m\u001b[38;5;124mvalue\u001b[39m\u001b[38;5;124m\"\u001b[39m] \u001b[38;5;241m=\u001b[39m \u001b[38;5;28mself\u001b[39m\u001b[38;5;241m.\u001b[39m_unwrap_value(response\u001b[38;5;241m.\u001b[39mget(\u001b[38;5;124m\"\u001b[39m\u001b[38;5;124mvalue\u001b[39m\u001b[38;5;124m\"\u001b[39m, \u001b[38;5;28;01mNone\u001b[39;00m))\n\u001b[0;32m    442\u001b[0m     \u001b[38;5;28;01mreturn\u001b[39;00m response\n",
      "File \u001b[1;32m~\\anaconda3\\lib\\site-packages\\selenium\\webdriver\\remote\\errorhandler.py:245\u001b[0m, in \u001b[0;36mErrorHandler.check_response\u001b[1;34m(self, response)\u001b[0m\n\u001b[0;32m    243\u001b[0m         alert_text \u001b[38;5;241m=\u001b[39m value[\u001b[38;5;124m\"\u001b[39m\u001b[38;5;124malert\u001b[39m\u001b[38;5;124m\"\u001b[39m]\u001b[38;5;241m.\u001b[39mget(\u001b[38;5;124m\"\u001b[39m\u001b[38;5;124mtext\u001b[39m\u001b[38;5;124m\"\u001b[39m)\n\u001b[0;32m    244\u001b[0m     \u001b[38;5;28;01mraise\u001b[39;00m exception_class(message, screen, stacktrace, alert_text)  \u001b[38;5;66;03m# type: ignore[call-arg]  # mypy is not smart enough here\u001b[39;00m\n\u001b[1;32m--> 245\u001b[0m \u001b[38;5;28;01mraise\u001b[39;00m exception_class(message, screen, stacktrace)\n",
      "\u001b[1;31mElementNotInteractableException\u001b[0m: Message: element not interactable\n  (Session info: chrome=117.0.5938.150)\nStacktrace:\n\tGetHandleVerifier [0x0037CFE3+45267]\n\t(No symbol) [0x00309741]\n\t(No symbol) [0x001FBCE0]\n\t(No symbol) [0x0022B668]\n\t(No symbol) [0x0022ACBA]\n\t(No symbol) [0x0024B03C]\n\t(No symbol) [0x00227F96]\n\t(No symbol) [0x0024B2B4]\n\t(No symbol) [0x0025DDDA]\n\t(No symbol) [0x0024AE36]\n\t(No symbol) [0x0022674E]\n\t(No symbol) [0x002278ED]\n\tGetHandleVerifier [0x00635659+2897737]\n\tGetHandleVerifier [0x0067E78B+3197051]\n\tGetHandleVerifier [0x00678571+3171937]\n\tGetHandleVerifier [0x00405E40+606000]\n\t(No symbol) [0x0031338C]\n\t(No symbol) [0x0030F508]\n\t(No symbol) [0x0030F62F]\n\t(No symbol) [0x00301D27]\n\tBaseThreadInitThunk [0x76B000C9+25]\n\tRtlGetAppContainerNamedObjectPath [0x776E7B1E+286]\n\tRtlGetAppContainerNamedObjectPath [0x776E7AEE+238]\n"
     ]
    }
   ],
   "source": [
    "from selenium import webdriver\n",
    "from selenium.webdriver.common.by import By\n",
    "from webdriver_manager.chrome import ChromeDriverManager\n",
    "from selenium.webdriver.support.ui import WebDriverWait\n",
    "from selenium.webdriver.support import expected_conditions as EC\n",
    "import time \n",
    "driver = webdriver.Chrome(ChromeDriverManager().install())\n",
    "driver.get(\"https://www.bseindia.com/markets/equity/EQReports/StockPrcHistori.aspx?expandable\")\n",
    "time.sleep(5)\n",
    "search_company=driver.find_element(By.ID,\"ContentPlaceHolder1_smartSearch.textbox2\")\n",
    "search_company.clear()\n",
    "search_company.send_keys(\"Savera\")  # Replace with your desired date\n",
    "time.sleep(5)\n",
    "from_date_input = driver.find_element(By.ID,\"ContentPlaceHolder1_txtFromDate\")  \n",
    "\n",
    "# Clear the existing value (if any) and set the new date value\n",
    "from_date_input.clear()\n",
    "from_date_input.send_keys(\"01/01/2018\")  # Replace with your desired date\n",
    "time.sleep(5)\n",
    "to_date_input = driver.find_element(By.ID,\"ContentPlaceHolder1_txtToDate\")  \n",
    "\n",
    "# Clear the existing value (if any) and set the new date value\n",
    "to_date_input.clear()\n",
    "to_date_input.send_keys(\"31/12/2022\")  # Replace with your desired date\n",
    "time.sleep(5)\n",
    "submit = driver.find_element(By.XPATH, \"(//input[@type='submit'])[1]\")\n",
    "submit.click()"
   ]
  },
  {
   "cell_type": "code",
   "execution_count": null,
   "id": "3c29bbc5",
   "metadata": {},
   "outputs": [],
   "source": [
    "driver.find_element(By.CSS_SELECTOR,'select.ui-datepicker-month option[value=\"0\"]').click()\n",
    "driver.find_element(By.CSS_SELECTOR,'select.ui-datepicker-year option[value=\"2018\"]').click()\n",
    "td_element = driver.find_element(By.CLASS_NAME, \"ui-datepicker-current-day\")\n",
    "anchor_element = td_element.find_element(By.XPATH, './/a[@date-date=\"01\"]')\n",
    "driver.execute_script(\"arguments[0].setAttribute('aria-current', 'true')\", anchor_element)"
   ]
  },
  {
   "cell_type": "code",
   "execution_count": 6,
   "id": "24fc3a6a",
   "metadata": {},
   "outputs": [
    {
     "name": "stderr",
     "output_type": "stream",
     "text": [
      "C:\\Users\\kausa\\AppData\\Local\\Temp\\ipykernel_7004\\3034888055.py:9: DeprecationWarning: executable_path has been deprecated, please pass in a Service object\n",
      "  driver = webdriver.Edge(EdgeChromiumDriverManager().install())\n"
     ]
    },
    {
     "ename": "ElementClickInterceptedException",
     "evalue": "Message: element click intercepted: Element is not clickable at point (260, 449)\n  (Session info: MicrosoftEdge=117.0.2045.31)\nStacktrace:\n\tGetHandleVerifier [0x00007FF7F04B0E42+59378]\n\tMicrosoft::Applications::Events::ILogConfiguration::operator* [0x00007FF7F043A302+259554]\n\t(No symbol) [0x00007FF7F01FAB4E]\n\t(No symbol) [0x00007FF7F0252DAC]\n\t(No symbol) [0x00007FF7F02508A5]\n\t(No symbol) [0x00007FF7F024DF68]\n\t(No symbol) [0x00007FF7F024CBE6]\n\t(No symbol) [0x00007FF7F023F0D2]\n\t(No symbol) [0x00007FF7F026C6BA]\n\t(No symbol) [0x00007FF7F023EAF1]\n\t(No symbol) [0x00007FF7F023E99D]\n\t(No symbol) [0x00007FF7F026C9E0]\n\t(No symbol) [0x00007FF7F023EAF1]\n\t(No symbol) [0x00007FF7F0286911]\n\t(No symbol) [0x00007FF7F026C493]\n\t(No symbol) [0x00007FF7F023D91A]\n\t(No symbol) [0x00007FF7F023CC0B]\n\t(No symbol) [0x00007FF7F023E0A4]\n\tMicrosoft::Applications::Events::EventProperty::to_string [0x00007FF7F0670019+1187993]\n\t(No symbol) [0x00007FF7F02BA1E4]\n\tMicrosoft::Applications::Events::EventProperty::~EventProperty [0x00007FF7F037E12A+34122]\n\tMicrosoft::Applications::Events::EventProperty::~EventProperty [0x00007FF7F03769F9+3609]\n\tMicrosoft::Applications::Events::EventProperty::to_string [0x00007FF7F066EDB4+1183284]\n\tMicrosoft::Applications::Events::ILogConfiguration::operator* [0x00007FF7F0444458+300856]\n\tMicrosoft::Applications::Events::ILogConfiguration::operator* [0x00007FF7F043EF94+279156]\n\tMicrosoft::Applications::Events::ILogConfiguration::operator* [0x00007FF7F043F0C2+279458]\n\tMicrosoft::Applications::Events::ILogConfiguration::operator* [0x00007FF7F04329C1+228513]\n\tBaseThreadInitThunk [0x00007FFFAC267614+20]\n\tRtlUserThreadStart [0x00007FFFAC9A26B1+33]\n",
     "output_type": "error",
     "traceback": [
      "\u001b[1;31m---------------------------------------------------------------------------\u001b[0m",
      "\u001b[1;31mElementClickInterceptedException\u001b[0m          Traceback (most recent call last)",
      "Input \u001b[1;32mIn [6]\u001b[0m, in \u001b[0;36m<cell line: 40>\u001b[1;34m()\u001b[0m\n\u001b[0;32m     38\u001b[0m time\u001b[38;5;241m.\u001b[39msleep(\u001b[38;5;241m5\u001b[39m)\n\u001b[0;32m     39\u001b[0m submit \u001b[38;5;241m=\u001b[39m driver\u001b[38;5;241m.\u001b[39mfind_element(By\u001b[38;5;241m.\u001b[39mXPATH, \u001b[38;5;124m\"\u001b[39m\u001b[38;5;124m(//input[@type=\u001b[39m\u001b[38;5;124m'\u001b[39m\u001b[38;5;124msubmit\u001b[39m\u001b[38;5;124m'\u001b[39m\u001b[38;5;124m])[1]\u001b[39m\u001b[38;5;124m\"\u001b[39m)\n\u001b[1;32m---> 40\u001b[0m \u001b[43msubmit\u001b[49m\u001b[38;5;241;43m.\u001b[39;49m\u001b[43mclick\u001b[49m\u001b[43m(\u001b[49m\u001b[43m)\u001b[49m\n",
      "File \u001b[1;32m~\\anaconda3\\lib\\site-packages\\selenium\\webdriver\\remote\\webelement.py:94\u001b[0m, in \u001b[0;36mWebElement.click\u001b[1;34m(self)\u001b[0m\n\u001b[0;32m     92\u001b[0m \u001b[38;5;28;01mdef\u001b[39;00m \u001b[38;5;21mclick\u001b[39m(\u001b[38;5;28mself\u001b[39m) \u001b[38;5;241m-\u001b[39m\u001b[38;5;241m>\u001b[39m \u001b[38;5;28;01mNone\u001b[39;00m:\n\u001b[0;32m     93\u001b[0m     \u001b[38;5;124;03m\"\"\"Clicks the element.\"\"\"\u001b[39;00m\n\u001b[1;32m---> 94\u001b[0m     \u001b[38;5;28;43mself\u001b[39;49m\u001b[38;5;241;43m.\u001b[39;49m\u001b[43m_execute\u001b[49m\u001b[43m(\u001b[49m\u001b[43mCommand\u001b[49m\u001b[38;5;241;43m.\u001b[39;49m\u001b[43mCLICK_ELEMENT\u001b[49m\u001b[43m)\u001b[49m\n",
      "File \u001b[1;32m~\\anaconda3\\lib\\site-packages\\selenium\\webdriver\\remote\\webelement.py:403\u001b[0m, in \u001b[0;36mWebElement._execute\u001b[1;34m(self, command, params)\u001b[0m\n\u001b[0;32m    401\u001b[0m     params \u001b[38;5;241m=\u001b[39m {}\n\u001b[0;32m    402\u001b[0m params[\u001b[38;5;124m\"\u001b[39m\u001b[38;5;124mid\u001b[39m\u001b[38;5;124m\"\u001b[39m] \u001b[38;5;241m=\u001b[39m \u001b[38;5;28mself\u001b[39m\u001b[38;5;241m.\u001b[39m_id\n\u001b[1;32m--> 403\u001b[0m \u001b[38;5;28;01mreturn\u001b[39;00m \u001b[38;5;28;43mself\u001b[39;49m\u001b[38;5;241;43m.\u001b[39;49m\u001b[43m_parent\u001b[49m\u001b[38;5;241;43m.\u001b[39;49m\u001b[43mexecute\u001b[49m\u001b[43m(\u001b[49m\u001b[43mcommand\u001b[49m\u001b[43m,\u001b[49m\u001b[43m \u001b[49m\u001b[43mparams\u001b[49m\u001b[43m)\u001b[49m\n",
      "File \u001b[1;32m~\\anaconda3\\lib\\site-packages\\selenium\\webdriver\\remote\\webdriver.py:440\u001b[0m, in \u001b[0;36mWebDriver.execute\u001b[1;34m(self, driver_command, params)\u001b[0m\n\u001b[0;32m    438\u001b[0m response \u001b[38;5;241m=\u001b[39m \u001b[38;5;28mself\u001b[39m\u001b[38;5;241m.\u001b[39mcommand_executor\u001b[38;5;241m.\u001b[39mexecute(driver_command, params)\n\u001b[0;32m    439\u001b[0m \u001b[38;5;28;01mif\u001b[39;00m response:\n\u001b[1;32m--> 440\u001b[0m     \u001b[38;5;28;43mself\u001b[39;49m\u001b[38;5;241;43m.\u001b[39;49m\u001b[43merror_handler\u001b[49m\u001b[38;5;241;43m.\u001b[39;49m\u001b[43mcheck_response\u001b[49m\u001b[43m(\u001b[49m\u001b[43mresponse\u001b[49m\u001b[43m)\u001b[49m\n\u001b[0;32m    441\u001b[0m     response[\u001b[38;5;124m\"\u001b[39m\u001b[38;5;124mvalue\u001b[39m\u001b[38;5;124m\"\u001b[39m] \u001b[38;5;241m=\u001b[39m \u001b[38;5;28mself\u001b[39m\u001b[38;5;241m.\u001b[39m_unwrap_value(response\u001b[38;5;241m.\u001b[39mget(\u001b[38;5;124m\"\u001b[39m\u001b[38;5;124mvalue\u001b[39m\u001b[38;5;124m\"\u001b[39m, \u001b[38;5;28;01mNone\u001b[39;00m))\n\u001b[0;32m    442\u001b[0m     \u001b[38;5;28;01mreturn\u001b[39;00m response\n",
      "File \u001b[1;32m~\\anaconda3\\lib\\site-packages\\selenium\\webdriver\\remote\\errorhandler.py:245\u001b[0m, in \u001b[0;36mErrorHandler.check_response\u001b[1;34m(self, response)\u001b[0m\n\u001b[0;32m    243\u001b[0m         alert_text \u001b[38;5;241m=\u001b[39m value[\u001b[38;5;124m\"\u001b[39m\u001b[38;5;124malert\u001b[39m\u001b[38;5;124m\"\u001b[39m]\u001b[38;5;241m.\u001b[39mget(\u001b[38;5;124m\"\u001b[39m\u001b[38;5;124mtext\u001b[39m\u001b[38;5;124m\"\u001b[39m)\n\u001b[0;32m    244\u001b[0m     \u001b[38;5;28;01mraise\u001b[39;00m exception_class(message, screen, stacktrace, alert_text)  \u001b[38;5;66;03m# type: ignore[call-arg]  # mypy is not smart enough here\u001b[39;00m\n\u001b[1;32m--> 245\u001b[0m \u001b[38;5;28;01mraise\u001b[39;00m exception_class(message, screen, stacktrace)\n",
      "\u001b[1;31mElementClickInterceptedException\u001b[0m: Message: element click intercepted: Element is not clickable at point (260, 449)\n  (Session info: MicrosoftEdge=117.0.2045.31)\nStacktrace:\n\tGetHandleVerifier [0x00007FF7F04B0E42+59378]\n\tMicrosoft::Applications::Events::ILogConfiguration::operator* [0x00007FF7F043A302+259554]\n\t(No symbol) [0x00007FF7F01FAB4E]\n\t(No symbol) [0x00007FF7F0252DAC]\n\t(No symbol) [0x00007FF7F02508A5]\n\t(No symbol) [0x00007FF7F024DF68]\n\t(No symbol) [0x00007FF7F024CBE6]\n\t(No symbol) [0x00007FF7F023F0D2]\n\t(No symbol) [0x00007FF7F026C6BA]\n\t(No symbol) [0x00007FF7F023EAF1]\n\t(No symbol) [0x00007FF7F023E99D]\n\t(No symbol) [0x00007FF7F026C9E0]\n\t(No symbol) [0x00007FF7F023EAF1]\n\t(No symbol) [0x00007FF7F0286911]\n\t(No symbol) [0x00007FF7F026C493]\n\t(No symbol) [0x00007FF7F023D91A]\n\t(No symbol) [0x00007FF7F023CC0B]\n\t(No symbol) [0x00007FF7F023E0A4]\n\tMicrosoft::Applications::Events::EventProperty::to_string [0x00007FF7F0670019+1187993]\n\t(No symbol) [0x00007FF7F02BA1E4]\n\tMicrosoft::Applications::Events::EventProperty::~EventProperty [0x00007FF7F037E12A+34122]\n\tMicrosoft::Applications::Events::EventProperty::~EventProperty [0x00007FF7F03769F9+3609]\n\tMicrosoft::Applications::Events::EventProperty::to_string [0x00007FF7F066EDB4+1183284]\n\tMicrosoft::Applications::Events::ILogConfiguration::operator* [0x00007FF7F0444458+300856]\n\tMicrosoft::Applications::Events::ILogConfiguration::operator* [0x00007FF7F043EF94+279156]\n\tMicrosoft::Applications::Events::ILogConfiguration::operator* [0x00007FF7F043F0C2+279458]\n\tMicrosoft::Applications::Events::ILogConfiguration::operator* [0x00007FF7F04329C1+228513]\n\tBaseThreadInitThunk [0x00007FFFAC267614+20]\n\tRtlUserThreadStart [0x00007FFFAC9A26B1+33]\n"
     ]
    }
   ],
   "source": [
    "from selenium import webdriver\n",
    "from selenium.webdriver.common.by import By\n",
    "from webdriver_manager.microsoft import EdgeChromiumDriverManager  # Import Edge driver manager\n",
    "from selenium.webdriver.support.ui import WebDriverWait\n",
    "from selenium.webdriver.support import expected_conditions as EC\n",
    "import time\n",
    "\n",
    "# Use the Edge webdriver and Edge driver manager\n",
    "driver = webdriver.Edge(EdgeChromiumDriverManager().install())\n",
    "\n",
    "driver.get(\"https://www.bseindia.com/\")\n",
    "input_search = driver.find_element(By.ID, 'getquotesearch')\n",
    "input_search.send_keys(\"Hindustan Aeronautics\")\n",
    "time.sleep(5)\n",
    "\n",
    "# Select the first child from the list of suggestions by class name\n",
    "first_suggestion = driver.find_element(By.CLASS_NAME, \"quotemenu\")  # Replace with the actual class name of the <li> element\n",
    "first_suggestion.click()\n",
    "\n",
    "time.sleep(5)\n",
    "button = driver.find_element(By.XPATH, \"(//input[@type='button'])[1]\")\n",
    "button.click()\n",
    "time.sleep(5)\n",
    "\n",
    "from_date_input = driver.find_element(By.ID, \"ContentPlaceHolder1_txtFromDate\") \n",
    "\n",
    "from_date_input.clear()\n",
    "from_date_input.send_keys(\"01/01/2018\") \n",
    "\n",
    "time.sleep(5)\n",
    "to_date_input = driver.find_element(By.ID, \"ContentPlaceHolder1_txtToDate\")  # Replace \"from_date_id\" with the actual ID\n",
    "\n",
    "# Clear the existing value (if any) and set the new date value\n",
    "to_date_input.clear()\n",
    "to_date_input.send_keys(\"31/12/2022\")  # Replace with your desired date\n",
    "\n",
    "time.sleep(5)\n",
    "submit = driver.find_element(By.XPATH, \"(//input[@type='submit'])[1]\")\n",
    "submit.click()\n",
    "\n",
    "\n"
   ]
  },
  {
   "cell_type": "code",
   "execution_count": null,
   "id": "c14d212d",
   "metadata": {},
   "outputs": [],
   "source": []
  }
 ],
 "metadata": {
  "kernelspec": {
   "display_name": "Python 3 (ipykernel)",
   "language": "python",
   "name": "python3"
  },
  "language_info": {
   "codemirror_mode": {
    "name": "ipython",
    "version": 3
   },
   "file_extension": ".py",
   "mimetype": "text/x-python",
   "name": "python",
   "nbconvert_exporter": "python",
   "pygments_lexer": "ipython3",
   "version": "3.9.12"
  }
 },
 "nbformat": 4,
 "nbformat_minor": 5
}
